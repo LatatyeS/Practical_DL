{
 "cells": [
  {
   "cell_type": "markdown",
   "metadata": {},
   "source": [
    "### Generating names with recurrent neural networks (5 points)\n",
    "\n",
    "This time you'll find yourself delving into the heart (and other intestines) of recurrent neural networks on a class of toy problems.\n",
    "\n",
    "Struggle to find a name for the variable? Let's see how you'll come up with a name for your son/daughter. Surely no human has expertize over what is a good child name, so let us train RNN instead;\n",
    "\n",
    "It's dangerous to go alone, take these:"
   ]
  },
  {
   "cell_type": "code",
   "execution_count": 1,
   "metadata": {
    "collapsed": true
   },
   "outputs": [],
   "source": [
    "import numpy as np\n",
    "import theano\n",
    "import theano.tensor as T\n",
    "import lasagne\n",
    "import os\n",
    "#thanks @keskarnitish"
   ]
  },
  {
   "cell_type": "code",
   "execution_count": 2,
   "metadata": {
    "collapsed": true
   },
   "outputs": [],
   "source": [
    "start_token = \" \"\n",
    "\n",
    "with open(\"names\") as f:\n",
    "    names = f.read()[:-1].split('\\n')\n",
    "    names = [start_token+name for name in names]\n",
    "    "
   ]
  },
  {
   "cell_type": "code",
   "execution_count": 3,
   "metadata": {},
   "outputs": [
    {
     "name": "stdout",
     "output_type": "stream",
     "text": [
      "n samples =  7944\n",
      " Abagael\n",
      " Claresta\n",
      " Glory\n",
      " Liliane\n",
      " Prissie\n",
      " Geeta\n",
      " Giovanne\n",
      " Piggy\n"
     ]
    }
   ],
   "source": [
    "print ('n samples = ',len(names))\n",
    "for x in names[::1000]:\n",
    "    print (x)"
   ]
  },
  {
   "cell_type": "markdown",
   "metadata": {},
   "source": [
    "# Text processing"
   ]
  },
  {
   "cell_type": "code",
   "execution_count": 4,
   "metadata": {},
   "outputs": [
    {
     "name": "stdout",
     "output_type": "stream",
     "text": [
      "n_tokens =  55\n"
     ]
    }
   ],
   "source": [
    "#all unique characters go here\n",
    "tokens = set(''.join(names))\n",
    "\n",
    "tokens = list(tokens)\n",
    "print ('n_tokens = ',len(tokens))\n"
   ]
  },
  {
   "cell_type": "code",
   "execution_count": 5,
   "metadata": {
    "collapsed": true
   },
   "outputs": [],
   "source": [
    "#!token_to_id = <dictionary of symbol -> its identifier (index in tokens list)>\n",
    "token_to_id = {t:i for i,t in enumerate(tokens) }\n",
    "\n",
    "#!id_to_token = < dictionary of symbol identifier -> symbol itself>\n",
    "id_to_token = {i:t for i,t in enumerate(tokens)}"
   ]
  },
  {
   "cell_type": "code",
   "execution_count": 6,
   "metadata": {},
   "outputs": [
    {
     "data": {
      "image/png": "[encoded data removed]",
      "text/plain": [
       "<matplotlib.figure.Figure at 0x21205a76a0>"
      ]
     },
     "metadata": {},
     "output_type": "display_data"
    }
   ],
   "source": [
    "import matplotlib.pyplot as plt\n",
    "%matplotlib inline\n",
    "plt.hist(list(map(len,names)),bins=25);\n",
    "\n"
   ]
  },
  {
   "cell_type": "code",
   "execution_count": 7,
   "metadata": {
    "collapsed": true
   },
   "outputs": [],
   "source": [
    "# truncate names longer than MAX_LEN characters. \n",
    "MAX_LEN = 20\n",
    "\n",
    "#you will likely need to change this for any dataset different from \"names\"\n"
   ]
  },
  {
   "cell_type": "markdown",
   "metadata": {},
   "source": [
    "### Cast everything from symbols into identifiers"
   ]
  },
  {
   "cell_type": "code",
   "execution_count": 8,
   "metadata": {
    "collapsed": true
   },
   "outputs": [],
   "source": [
    "names_ix = list(map(lambda name: list(map(token_to_id.get,name)),names))\n",
    "\n",
    "\n",
    "#crop long names and pad short ones\n",
    "for i in range(len(names_ix)):\n",
    "    names_ix[i] = names_ix[i][:MAX_LEN] #crop too long\n",
    "    \n",
    "    if len(names_ix[i]) < MAX_LEN:\n",
    "        names_ix[i] += [token_to_id[\" \"]]*(MAX_LEN - len(names_ix[i])) #pad too short\n",
    "        \n",
    "assert len(set(map(len,names_ix)))==1\n",
    "\n",
    "names_ix = np.array(names_ix)"
   ]
  },
  {
   "cell_type": "markdown",
   "metadata": {},
   "source": [
    "# Input variables"
   ]
  },
  {
   "cell_type": "code",
   "execution_count": 9,
   "metadata": {
    "collapsed": true
   },
   "outputs": [],
   "source": [
    "input_sequence = T.matrix('token sequencea','int32')\n",
    "target_values = T.matrix('actual next token','int32')\n"
   ]
  },
  {
   "cell_type": "markdown",
   "metadata": {},
   "source": [
    "# Build NN\n",
    "\n",
    "You will be building a model that takes token sequence and predicts next token\n",
    "\n",
    "\n",
    "* iput sequence\n",
    "* one-hot / embedding\n",
    "* recurrent layer(s)\n",
    "* otput layer(s) that predict output probabilities\n"
   ]
  },
  {
   "cell_type": "code",
   "execution_count": 10,
   "metadata": {
    "collapsed": true
   },
   "outputs": [],
   "source": [
    "from lasagne.layers import InputLayer,DenseLayer,EmbeddingLayer\n",
    "from lasagne.layers import RecurrentLayer,LSTMLayer,GRULayer,CustomRecurrentLayer"
   ]
  },
  {
   "cell_type": "code",
   "execution_count": 11,
   "metadata": {
    "collapsed": true
   },
   "outputs": [],
   "source": [
    "\n",
    "l_in = lasagne.layers.InputLayer(shape=(None, None),input_var=input_sequence)\n",
    "\n",
    "#!<Your neural network>\n",
    "l_emb = EmbeddingLayer(l_in, len(tokens), 8)\n",
    "\n",
    "l_rnn = GRULayer(l_emb, 32, )\n",
    "\n",
    "#flatten batch and time to be compatible with feedforward layers (will un-flatten later)\n",
    "l_rnn_flat = lasagne.layers.reshape(l_rnn, (-1,l_rnn.output_shape[-1]))\n",
    "\n",
    "l_out = DenseLayer(l_rnn_flat, len(tokens), nonlinearity= lasagne.nonlinearities.softmax)\n",
    "\n",
    "\n"
   ]
  },
  {
   "cell_type": "code",
   "execution_count": 12,
   "metadata": {},
   "outputs": [
    {
     "name": "stdout",
     "output_type": "stream",
     "text": [
      "[W, W_in_to_updategate, W_hid_to_updategate, b_updategate, W_in_to_resetgate, W_hid_to_resetgate, b_resetgate, W_in_to_hidden_update, W_hid_to_hidden_update, b_hidden_update, W, b]\n"
     ]
    }
   ],
   "source": [
    "# Model weights\n",
    "weights = lasagne.layers.get_all_params(l_out,trainable=True)\n",
    "print (weights)"
   ]
  },
  {
   "cell_type": "code",
   "execution_count": 13,
   "metadata": {
    "collapsed": true
   },
   "outputs": [],
   "source": [
    "network_output = lasagne.layers.get_output(l_out)\n",
    "#If you use dropout do not forget to create deterministic version for evaluation"
   ]
  },
  {
   "cell_type": "code",
   "execution_count": 14,
   "metadata": {
    "collapsed": true
   },
   "outputs": [],
   "source": [
    "\n",
    "predicted_probabilities_flat = network_output\n",
    "correct_answers_flat = target_values.ravel()\n",
    "\n",
    "\n",
    "loss = lasagne.objectives.categorical_crossentropy(predicted_probabilities_flat,correct_answers_flat).mean()\n",
    "\n",
    "updates = lasagne.updates.adam(loss, weights)"
   ]
  },
  {
   "cell_type": "markdown",
   "metadata": {},
   "source": [
    "# Compiling it"
   ]
  },
  {
   "cell_type": "code",
   "execution_count": 15,
   "metadata": {
    "collapsed": true
   },
   "outputs": [],
   "source": [
    "\n",
    "#training\n",
    "train = theano.function([input_sequence, target_values], loss, updates=updates, allow_input_downcast=True)\n",
    "\n",
    "#computing loss without training\n",
    "compute_cost = theano.function([input_sequence, target_values], loss, allow_input_downcast=True)\n"
   ]
  },
  {
   "cell_type": "markdown",
   "metadata": {},
   "source": [
    "# generation\n",
    "\n",
    "Simple: \n",
    "* get initial context(seed), \n",
    "* predict next token probabilities,\n",
    "* sample next token, \n",
    "* add it to the context\n",
    "* repeat from step 2\n",
    "\n",
    "You'll get a more detailed info on how it works in the homework section."
   ]
  },
  {
   "cell_type": "code",
   "execution_count": 16,
   "metadata": {
    "collapsed": true
   },
   "outputs": [],
   "source": [
    "#compile the function that computes probabilities for next token given previous text.\n",
    "\n",
    "#reshape back into original shape\n",
    "next_word_probas = network_output.reshape((input_sequence.shape[0],input_sequence.shape[1],len(tokens)))\n",
    "#predictions for next tokens (after sequence end)\n",
    "last_word_probas = next_word_probas[:,-1]\n",
    "probs = theano.function([input_sequence],last_word_probas,allow_input_downcast=True)\n"
   ]
  },
  {
   "cell_type": "code",
   "execution_count": 17,
   "metadata": {
    "collapsed": true
   },
   "outputs": [],
   "source": [
    "\n",
    "def generate_sample(seed_phrase=None,N=MAX_LEN,t=1,n_snippets=1):\n",
    "    '''\n",
    "    The function generates text given a phrase of length at least SEQ_LENGTH.\n",
    "        \n",
    "    parameters:\n",
    "        sample_fun - max_ or proportional_sample_fun or whatever else you implemented\n",
    "        \n",
    "        The phrase is set using the variable seed_phrase\n",
    "\n",
    "        The optional input \"N\" is used to set the number of characters of text to predict.     \n",
    "    '''\n",
    "    if seed_phrase is None:\n",
    "        seed_phrase=start_token\n",
    "    if len(seed_phrase) > MAX_LEN:\n",
    "        seed_phrase = seed_phrase[-MAX_LEN:]\n",
    "    assert type(seed_phrase) is str\n",
    "\n",
    "    snippets = []\n",
    "    for _ in range(n_snippets):\n",
    "        sample_ix = []\n",
    "        x = list(map(lambda c: token_to_id.get(c,0), seed_phrase))\n",
    "        x = np.array([x])\n",
    "\n",
    "        for i in range(N):\n",
    "            # Pick the character that got assigned the highest probability\n",
    "            p = probs(x).ravel()\n",
    "            p = p**t / np.sum(p**t)\n",
    "            ix = np.random.choice(np.arange(len(tokens)),p=p)\n",
    "            sample_ix.append(ix)\n",
    "\n",
    "            x = np.hstack((x[-MAX_LEN+1:],[[ix]]))\n",
    "\n",
    "        random_snippet = seed_phrase + ''.join(id_to_token[ix] for ix in sample_ix)    \n",
    "        snippets.append(random_snippet)\n",
    "        \n",
    "    print(\"----\\n %s \\n----\" % '; '.join(snippets))\n"
   ]
  },
  {
   "cell_type": "markdown",
   "metadata": {},
   "source": [
    "# Model training\n",
    "\n",
    "Here you can tweak parameters or insert your generation function\n",
    "\n",
    "\n",
    "__Once something word-like starts generating, try increasing seq_length__\n",
    "\n"
   ]
  },
  {
   "cell_type": "code",
   "execution_count": 18,
   "metadata": {
    "collapsed": true
   },
   "outputs": [],
   "source": [
    "def sample_batch(data, batch_size):\n",
    "    \n",
    "    rows = data[np.random.randint(0,len(data),size=batch_size)]\n",
    "    \n",
    "    return rows[:,:-1],rows[:,1:]"
   ]
  },
  {
   "cell_type": "code",
   "execution_count": 19,
   "metadata": {},
   "outputs": [
    {
     "name": "stdout",
     "output_type": "stream",
     "text": [
      "Training ...\n",
      "Generated names\n",
      "----\n",
      "  WVKbcnjvNUBUEqbdprqe;  xyWYrWPEnWkDgkXkBkns;  AturXAejoUpngkYv-syk;  zFIRhRtMspCKAIW'edko;  h hAjtlUgZmcoAfTabnf;  fcyAJNu rhsEuSXNeCZu;  sZPDqj-YKvzB SIJPnZu;  zqOCgpEEVKsNuBcAtlOU;  qKFCBOXAMIejnMWNjC'G;  YOQJWQIaaASgAWKnaGZM \n",
      "----\n",
      "Epoch 0 average loss = 1.4351116937664703\n",
      "Generated names\n",
      "----\n",
      "  tZvl   l   r        ;  YN               a  ;  Yav                 ;  Qr etti             ;  tansne   n          ;  HqgeJ e  a          ;  Dvf                 ;  Co  i               ;  vnr  i              ;  yn                   \n",
      "----\n",
      "Epoch 1 average loss = 1.0819479604675708\n",
      "Generated names\n",
      "----\n",
      "  snyihnnea           ;  f                   ;  vkghsE              ;  uSoet               ;  AwanYf       n      ;  atyrdi              ;   Mtroe              ;  E                   ;  Luhai  n            ;  aIl                  \n",
      "----\n",
      "Epoch 2 average loss = 0.9884194082404353\n",
      "Generated names\n",
      "----\n",
      "  Nsila               ;  Latriirgre          ;  Wiicua              ;  Jsedteu             ;  Msdaa               ;  Mia                 ;  uevkdnd             ;  Niooi               ;  Laye                ;  Hassgey              \n",
      "----\n",
      "Epoch 3 average loss = 0.9265440220921074\n",
      "Generated names\n",
      "----\n",
      "  Rada                ;  Ersnons             ;  Ryka                ;  Masnre              ;  Hliie               ;  Straeni             ;  Masemn              ;  Snile               ;  Niarie              ;  Jliufa               \n",
      "----\n",
      "Epoch 4 average loss = 0.9027650480273586\n",
      "Generated names\n",
      "----\n",
      "  ASriroda            ;                      ;  Hobaldil n          ;  Slimas              ;  Jtne                ;  Vomnba              ;  Shyyren             ;  Nurdela             ;  Vacylig             ;  Elinra               \n",
      "----\n",
      "Epoch 5 average loss = 0.8886273585153501\n",
      "Generated names\n",
      "----\n",
      "  Chomla              ;  Roliboe             ;  Einsalenen          ;  Higine              ;  Certithi            ;  Fuydidd             ;  Tlreloma            ;  Smdrena             ;  Mennliy             ;  Eddebel              \n",
      "----\n",
      "Epoch 6 average loss = 0.8693155138237814\n",
      "Generated names\n",
      "----\n",
      "  Erlen               ;  Marrinela           ;  Crina               ;  Sebsas              ;  Rowa                ;  Pyreso              ;  Dirinh              ;  Ckacne              ;  Menncy              ;  Beline               \n",
      "----\n",
      "Epoch 7 average loss = 0.8568083288256851\n",
      "Generated names\n",
      "----\n",
      "  Lelsa               ;  Anlin               ;  Meydenas            ;  SuzeKo              ;  SGloel              ;  Abenlie             ;  Qevol               ;  Teridy              ;  Digsa    n          ;  Wicaha               \n",
      "----\n",
      "Epoch 8 average loss = 0.8493106574056547\n",
      "Generated names\n",
      "----\n",
      "  Sarcy               ;  Lalaratso           ;  Abel                ;  Ablia               ;  Orena               ;  Volne               ;  Tingy               ;  Kacahel             ;  Kivemhe             ;  Rerica               \n",
      "----\n",
      "Epoch 9 average loss = 0.8425400001367083\n",
      "Generated names\n",
      "----\n",
      "  Tandett             ;  Manmis              ;  Sarmde              ;  Bordrian            ;  Onne                ;  Lasne               ;  Teelel              ;  Marle               ;  Jlinnde             ;  Sa Mello             \n",
      "----\n",
      "Epoch 10 average loss = 0.8331005923580781\n",
      "Generated names\n",
      "----\n",
      "  Gymka               ;  Carbe               ;  Daonie              ;  AAda                ;  Charle              ;  Ioescoe             ;  Veodun              ;  Ciacala             ;  Sulcocon            ;  Div                  \n",
      "----\n",
      "Epoch 11 average loss = 0.8301786378996282\n",
      "Generated names\n",
      "----\n",
      "  Amosebis            ;  Jeond               ;  Garie               ;  Xusci               ;  Har                 ;  Berme               ;  Racahi              ;  Gaptaret            ;  C nterie            ;  Shmie                \n",
      "----\n",
      "Epoch 12 average loss = 0.8214269540178111\n",
      "Generated names\n",
      "----\n",
      "  Flana               ;  Sorely              ;  Albynont            ;  Fruricgen           ;  Therda              ;  Seysie              ;  Anskel              ;  InugaMa             ;  Rinne               ;  Todripa              \n",
      "----\n",
      "Epoch 13 average loss = 0.8221662927125917\n",
      "Generated names\n",
      "----\n",
      "  Binathand           ;  Lira                ;  Ranathe             ;  Mhidena             ;  Zula                ;  Jongina             ;  Syneliel            ;  Malry               ;  Ker                 ;  Amartun              \n",
      "----\n",
      "Epoch 14 average loss = 0.816895998424582\n",
      "Generated names\n",
      "----\n",
      "  Thele               ;  Olamy               ;  Jonno               ;  Urielse             ;  Darrie              ;  Peline              ;  Flafie              ;  Ganer               ;  Belvi               ;  Karine               \n",
      "----\n",
      "Epoch 15 average loss = 0.8105433978493267\n",
      "Generated names\n",
      "----\n",
      "  Shherie             ;  Wersi               ;  Portod              ;  Jarvis              ;  Dare                ;  Celiset             ;  Doncie              ;  Agd                 ;  Soder               ;  Jirorte              \n",
      "----\n",
      "Epoch 16 average loss = 0.8087413608373533\n",
      "Generated names\n",
      "----\n",
      "  Donera              ;  Cheere              ;  Domer               ;  Somes               ;  Terfie              ;  Ivoud               ;  Shiptol             ;  Midgasta            ;  Sdamaria            ;  Frecay               \n",
      "----\n",
      "Epoch 17 average loss = 0.805455456695207\n",
      "Generated names\n",
      "----\n",
      "  Pargre              ;  Wipel               ;  Cua                 ;  Jarikta             ;  Naricke             ;  Midatneh            ;  Darna               ;  Muvek               ;  Mad                 ;  Malipa               \n",
      "----\n",
      "Epoch 18 average loss = 0.7968281182147238\n",
      "Generated names\n",
      "----\n",
      "  Malrin              ;  Canser              ;  Jaza                ;  Uneen               ;  Glolish             ;  Metheynt            ;  Cordlers            ;  Tliat               ;  Bathie              ;  Lalon                \n",
      "----\n",
      "Epoch 19 average loss = 0.8031237416858851\n",
      "Generated names\n",
      "----\n",
      "  Vilvin              ;  Germu               ;  Vansar              ;  Yucy                ;  Tonle               ;  Egsie               ;  Mia                 ;  Navelhe             ;  Shalorie            ;  Brardie              \n",
      "----\n",
      "Epoch 20 average loss = 0.7881934699016852\n",
      "Generated names\n",
      "----\n",
      "  Redaballe           ;  Jlici               ;  Mamia               ;  Tond                ;  Paresse             ;  Luohy               ;  Silang              ;  Argrrelly           ;  Bareitt             ;  Masella              \n",
      "----\n",
      "Epoch 21 average loss = 0.7942674689883567\n",
      "Generated names\n",
      "----\n",
      "  Jpore               ;  Pannie              ;  Guky                ;  Dally               ;  Alicka              ;  Lonele              ;  Jana                ;  Erbris              ;  Frina               ;  Tuech                \n",
      "----\n",
      "Epoch 22 average loss = 0.7916711527363093\n",
      "Generated names\n",
      "----\n",
      "  Notthelde           ;  Hersty              ;  Chril               ;  Bilonmal            ;  Edbicy              ;  Suthene             ;  Sudry               ;  Kelline             ;  Hartios             ;  Defderinar           \n",
      "----\n",
      "Epoch 23 average loss = 0.7919889903265537\n",
      "Generated names\n",
      "----\n",
      "  Fannina             ;  Anron               ;  Loiney              ;  Penenia             ;  Stofer              ;  Haite               ;  Shewelye            ;  Anestoe             ;  Cyfonnes            ;  Elyancee             \n",
      "----\n",
      "Epoch 24 average loss = 0.7925253228325023\n",
      "Generated names\n",
      "----\n",
      "  Maicin              ;  Filshey             ;  Fatid               ;  Fordida             ;  Avelle              ;  Hemban              ;  Thandy              ;  Jtod                ;  Wulcada             ;  Benren               \n",
      "----\n",
      "Epoch 25 average loss = 0.7868905474301453\n",
      "Generated names\n",
      "----\n",
      "  Harce               ;  Fombin              ;  Aumy                ;  Cartite             ;  Aneere              ;  Dachelee            ;  Kaylison            ;  Kilina              ;  Jarela              ;  Cetilin              \n",
      "----\n",
      "Epoch 26 average loss = 0.7817440513076964\n",
      "Generated names\n",
      "----\n",
      "  Lorel               ;  Theri               ;  Madgari             ;  Ninti               ;  Relie               ;  Micia               ;  Ligpi               ;  Jaru                ;  Nicolys             ;  Wirgie               \n",
      "----\n"
     ]
    },
    {
     "name": "stdout",
     "output_type": "stream",
     "text": [
      "Epoch 27 average loss = 0.7837820417370307\n",
      "Generated names\n",
      "----\n",
      "  Dotnia              ;  Reshare             ;  Consya              ;  Cariaze             ;  Nailia              ;  Anbrik              ;  Jannand             ;  Yobehann            ;  Jeowel              ;  Rond                 \n",
      "----\n",
      "Epoch 28 average loss = 0.7760891966437923\n",
      "Generated names\n",
      "----\n",
      "  Wergne              ;  Fricky              ;  Eliprell            ;  Garter              ;  Amreze              ;  Raxfynd             ;  Dottolyn            ;  Malle               ;  Barthena            ;  Shath                \n",
      "----\n",
      "Epoch 29 average loss = 0.772810320658366\n",
      "Generated names\n",
      "----\n",
      "  Leba                ;  Theundan            ;  Resse               ;  Mautyn              ;  Lesalin             ;  Kariet              ;  Heret               ;  Guika               ;  Karev               ;  Haberrie             \n",
      "----\n",
      "Epoch 30 average loss = 0.7743485208837871\n",
      "Generated names\n",
      "----\n",
      "  Welzanne            ;  Mursti              ;  Shilderlte          ;  Sain                ;  Papieth             ;  Haila               ;  Nosill              ;  Quinga              ;  Domiah              ;  Jodby                \n",
      "----\n",
      "Epoch 31 average loss = 0.779490325016531\n",
      "Generated names\n",
      "----\n",
      "  Bardida             ;  Zeg                 ;  Kuoje               ;  Fradee              ;  Ebwi                ;  Thersie             ;  Velyne              ;  Gadarie             ;  Mekal               ;  Sale                 \n",
      "----\n",
      "Epoch 32 average loss = 0.7735936048211296\n",
      "Generated names\n",
      "----\n",
      "  Denie               ;  Cyrise              ;  Felista             ;  Dorry               ;  Sheym               ;  Dovine              ;  Thaor               ;  Agren               ;  Jeanna              ;  Rosal                \n",
      "----\n",
      "Epoch 33 average loss = 0.7678122711560017\n",
      "Generated names\n",
      "----\n",
      "  Ciameet             ;  Stwarith            ;  Brann               ;  Azame               ;  Ava                 ;  Lyncer              ;  Quyx                ;  Bettiede            ;  Rososhott           ;  Geantie              \n",
      "----\n",
      "Epoch 34 average loss = 0.7674246325512566\n",
      "Generated names\n",
      "----\n",
      "  Mellin              ;  Kert                ;  Lenina              ;  Fredone             ;  Elize               ;  Thacie              ;  Xiiqual             ;  Ilinqueslye         ;  Gerri               ;  Elole                \n",
      "----\n",
      "Epoch 35 average loss = 0.7698759491202608\n",
      "Generated names\n",
      "----\n",
      "  Marderi             ;  Analne              ;  Merie               ;  Dettice             ;  Apelse              ;  Dorsi               ;  Heren               ;  Raen                ;  Aldith              ;  Middorara            \n",
      "----\n",
      "Epoch 36 average loss = 0.7680903108310233\n",
      "Generated names\n",
      "----\n",
      "  Silsod              ;  Dalyanne            ;  Mardid              ;  Angily              ;  Allof               ;  Oramie              ;  Nira                ;  Flonci              ;  Sthevma             ;  Jank                 \n",
      "----\n",
      "Epoch 37 average loss = 0.768905967634791\n",
      "Generated names\n",
      "----\n",
      "  Rab                 ;  Frod                ;  Rovenn              ;  Ebbary              ;  Sazina              ;  Braura              ;  Rebong              ;  Auiss               ;  Rolas               ;  Marielline           \n",
      "----\n",
      "Epoch 38 average loss = 0.7605282378896507\n",
      "Generated names\n",
      "----\n",
      "  Dones               ;  Cazs                ;  Nore                ;  Bengi               ;  Marcella            ;  Lina                ;  France              ;  Rovandat            ;  Sripanyt            ;  Samy                 \n",
      "----\n",
      "Epoch 39 average loss = 0.7638272351321287\n",
      "Generated names\n",
      "----\n",
      "  Kurth               ;  Kat                 ;  Jucel               ;  Gyndy               ;  Tathie              ;  Marrize             ;  Laianno             ;  Jafine              ;  Urbil               ;  Demern               \n",
      "----\n",
      "Epoch 40 average loss = 0.7623532508772244\n",
      "Generated names\n",
      "----\n",
      "  Juczie              ;  Saldea              ;  Kanretto            ;  Bamby               ;  Sadna               ;  Marvy               ;  Arase               ;  Jaony               ;  Andellat            ;  Luera                \n",
      "----\n",
      "Epoch 41 average loss = 0.7606541716073341\n",
      "Generated names\n",
      "----\n",
      "  Linttane            ;  Roel                ;  Elax                ;  Low                 ;  Wenner              ;  Ra-Aela             ;  Kelly               ;  Margictanna         ;  Soumas              ;  Uvariah              \n",
      "----\n",
      "Epoch 42 average loss = 0.7589883813511552\n",
      "Generated names\n",
      "----\n",
      "  Yessia              ;  Xycki               ;  Blelo               ;  Anny                ;  Rinstan             ;  Jorree              ;  Horgbeldte          ;  Maurisa             ;  Elamette            ;  Mutteria             \n",
      "----\n",
      "Epoch 43 average loss = 0.7615629142464498\n",
      "Generated names\n",
      "----\n",
      "  Jinga Zen           ;  Lyne                ;  Neti                ;  Gafenor             ;  Asteuld             ;  Lalese              ;  RusaLynn            ;  Ellearo             ;  Insy                ;  Arba                 \n",
      "----\n",
      "Epoch 44 average loss = 0.764009056990363\n",
      "Generated names\n",
      "----\n",
      "  Alncila             ;  Nara                ;  Clodida             ;  Iva                 ;  Pharsty             ;  Cortie              ;  Modrie              ;  Rabyne              ;  Rozie               ;  Chregsla             \n",
      "----\n",
      "Epoch 45 average loss = 0.7533850061848112\n",
      "Generated names\n",
      "----\n",
      "  Anlda               ;  Marlethe            ;  Menton              ;  Lay                 ;  Ondred              ;  Berrite             ;  TtedthiaG           ;  Deisel              ;  Hadyo               ;  Hetti                \n",
      "----\n",
      "Epoch 46 average loss = 0.7582952554689001\n",
      "Generated names\n",
      "----\n",
      "  Hirkie              ;  Winss               ;  Nicka               ;  Arda                ;  Clin                ;  Cheyldicten         ;  Mynellie            ;  Corstie             ;  Jaran               ;  Almord               \n",
      "----\n",
      "Epoch 47 average loss = 0.7583311279517644\n",
      "Generated names\n",
      "----\n",
      "  Javilithe           ;  Nancent             ;  Valice              ;  Grein               ;  Winald              ;  Kielerm             ;  Lana                ;  Nothell             ;  Waslyn              ;  Greniget             \n",
      "----\n",
      "Epoch 48 average loss = 0.7568528491175853\n",
      "Generated names\n",
      "----\n",
      "  Daurciah            ;  Edepina             ;  Arlian              ;  Beod                ;  Grid                ;  Velena              ;  Axastin             ;  Bronercka           ;  Jolie               ;  Lesud                \n",
      "----\n",
      "Epoch 49 average loss = 0.7518805472759681\n",
      "Generated names\n",
      "----\n",
      "  Laura               ;  Hawi                ;  Charrie             ;  Derinine            ;  Chulorera           ;  Marlite             ;  Cayl                ;  Chris               ;  Gawly               ;  Alobera              \n",
      "----\n",
      "Epoch 50 average loss = 0.7504471754967582\n",
      "Generated names\n",
      "----\n",
      "  Bari                ;  Feorrica            ;  Amiria              ;  Berto               ;  Bercibillyu         ;  Chride              ;  Deleld              ;  Vaile               ;  Willy               ;  Lyngi                \n",
      "----\n",
      "Epoch 51 average loss = 0.7545417428649605\n",
      "Generated names\n",
      "----\n",
      "  Alique              ;  Thelmord            ;  Nose                ;  Taodare             ;  Lulein              ;  Waira               ;  Carisal             ;  Jaes                ;  Lerye               ;  Shephand             \n",
      "----\n",
      "Epoch 52 average loss = 0.7522999511054563\n",
      "Generated names\n",
      "----\n",
      "  Godra               ;  Sllie               ;  Wadde               ;  Every               ;  Veldianna           ;  Jeiman              ;  Hiabmie             ;  Balonine            ;  Tabell              ;  Kenia                \n",
      "----\n",
      "Epoch 53 average loss = 0.7475728191962905\n",
      "Generated names\n",
      "----\n",
      "  Brist               ;  Gaile               ;  Tran                ;  Audon               ;  Claude              ;  Tabbusson           ;  Smanon              ;  Pudiand             ;  Mallacy             ;  Charrie              \n",
      "----\n",
      "Epoch 54 average loss = 0.7489433602751001\n",
      "Generated names\n",
      "----\n",
      "  Tarrico             ;  Maielle             ;  Ramis               ;  Koreria             ;  Pennifork           ;  Kritti              ;  Roberhonn           ;  Jeppa               ;  Fylly               ;  Adrethes             \n",
      "----\n"
     ]
    },
    {
     "name": "stdout",
     "output_type": "stream",
     "text": [
      "Epoch 55 average loss = 0.7447064091853415\n",
      "Generated names\n",
      "----\n",
      "  Rodeie              ;  Givin               ;  Arnchellick         ;  Jabo                ;  Anthy               ;  Gabbiall            ;  Tmishil             ;  Scharie             ;  Kapamen             ;  Dari                 \n",
      "----\n",
      "Epoch 56 average loss = 0.7437706621698842\n",
      "Generated names\n",
      "----\n",
      "  Lebmin              ;  Maith               ;  Havena              ;  Dele                ;  Eobe                ;  Danishe             ;  Dulkyce             ;  Adalen              ;  Iilina              ;  Tanwonn              \n",
      "----\n",
      "Epoch 57 average loss = 0.7478814093055121\n",
      "Generated names\n",
      "----\n",
      "  Meril               ;  Frandy              ;  Beandra             ;  Deerut              ;  Tam                 ;  Kerthenu            ;  Kirtreren           ;  Wisley              ;  Giggona             ;  Meld                 \n",
      "----\n",
      "Epoch 58 average loss = 0.7473930333901436\n",
      "Generated names\n",
      "----\n",
      "  Harde               ;  Brisy               ;  Carolit             ;  Luze                ;  Byd                 ;  Weni                ;  Clindie             ;  Galree              ;  Melard              ;  Bebbye               \n",
      "----\n",
      "Epoch 59 average loss = 0.7414823028019509\n",
      "Generated names\n",
      "----\n",
      "  Ehiare              ;  Jorina              ;  Harly               ;  Collye              ;  Trith               ;  Fano                ;  Wil                 ;  Lersith             ;  Malvi               ;  Rideene              \n",
      "----\n",
      "Epoch 60 average loss = 0.7417387353475465\n",
      "Generated names\n",
      "----\n",
      "  Jaunza              ;  Dornanla            ;  Dalona              ;  Hianotte            ;  Rol                 ;  Aurinarde           ;  Kilorie             ;  Juutuse             ;  Hony                ;  Katanee              \n",
      "----\n",
      "Epoch 61 average loss = 0.739086562112957\n",
      "Generated names\n",
      "----\n",
      "  Jensha              ;  Aleneph             ;  Vienkea             ;  Lorie               ;  Bridy               ;  Kerala              ;  Juck                ;  Gibette             ;  Touree              ;  Dawediel             \n",
      "----\n",
      "Epoch 62 average loss = 0.743063462692749\n",
      "Generated names\n",
      "----\n",
      "  Madannel            ;  Jarie               ;  Lanne               ;  Contonee            ;  Melley              ;  Loryl               ;  Helstina            ;  Rheppe              ;  Anne-Merhy          ;  Tranne               \n",
      "----\n",
      "Epoch 63 average loss = 0.7444846357688594\n",
      "Generated names\n",
      "----\n",
      "  Wish                ;  Gubenin             ;  Silmella            ;  Floudie             ;  Butta               ;  Lebey               ;  Melly               ;  Phissi              ;  Sasmanie            ;  Ropsa                \n",
      "----\n",
      "Epoch 64 average loss = 0.7423140674729973\n",
      "Generated names\n",
      "----\n",
      "  Riaff               ;  Purris              ;  Emil                ;  Tid                 ;  Alar                ;  Rolme               ;  Lennella            ;  Frlyca              ;  Buley               ;  Carrill              \n",
      "----\n",
      "Epoch 65 average loss = 0.7375691373125486\n",
      "Generated names\n",
      "----\n",
      "  Carstey             ;  Laura               ;  Girgoj              ;  Dayna               ;  Costins             ;  Yilvi               ;  Waldrissa           ;  Cassy               ;  Gebmia              ;  Mada                 \n",
      "----\n",
      "Epoch 66 average loss = 0.7445495341764041\n",
      "Generated names\n",
      "----\n",
      "  Magmala             ;  Erphonnto           ;  Quinni              ;  Walelee             ;  Tossa               ;  Zogida              ;  Allan               ;  Vydia               ;  Borleser            ;  Madela               \n",
      "----\n",
      "Epoch 67 average loss = 0.7425661731319737\n",
      "Generated names\n",
      "----\n",
      "  Stenee              ;  Rayne               ;  Groigia             ;  Mambie              ;  Morey               ;  Tanri               ;  Grandy              ;  Briano              ;  Parce               ;  Granord              \n",
      "----\n",
      "Epoch 68 average loss = 0.7380757723630083\n",
      "Generated names\n",
      "----\n",
      "  Antol               ;  Vild                ;  Carlan              ;  Dedricha            ;  Sidiina             ;  Rossy               ;  Lelen               ;  Daline              ;  Tus                 ;  Jachell              \n",
      "----\n",
      "Epoch 69 average loss = 0.7391985558005454\n",
      "Generated names\n",
      "----\n",
      "  Ammra               ;  Bertel              ;  Shanton             ;  Analene             ;  Sabren              ;  Brances             ;  Evari               ;  Roya                ;  Rislie              ;  Loune                \n",
      "----\n",
      "Epoch 70 average loss = 0.7367605445834674\n",
      "Generated names\n",
      "----\n",
      "  Mive                ;  She  rde            ;  Carin               ;  Chrissa             ;  Prpyn               ;  Gustin              ;  Lejine              ;  Blith               ;  Juschanter          ;  SaC                  \n",
      "----\n",
      "Epoch 71 average loss = 0.7395024394771073\n",
      "Generated names\n",
      "----\n",
      "  Othween             ;  Thurina             ;  Valles              ;  Shea                ;  Sungin              ;  Carroto             ;  Camil               ;  Markie              ;  Genn                ;  Shmina               \n",
      "----\n",
      "Epoch 72 average loss = 0.7379732801527278\n",
      "Generated names\n",
      "----\n",
      "  Tonna               ;  Aldiruse            ;  Jenny               ;  Iggonth             ;  Esbure              ;  Arneanna            ;  Reoged              ;  Jaforda             ;  Edreane             ;  Terrala              \n",
      "----\n",
      "Epoch 73 average loss = 0.7427439739379026\n",
      "Generated names\n",
      "----\n",
      "  Merina              ;  Amer                ;  Juxssa              ;  Hey                 ;  Eliella             ;  Come                ;  Kallen              ;  Tiffarvesand        ;  Labele              ;  Kordi                \n",
      "----\n",
      "Epoch 74 average loss = 0.7375069588044323\n",
      "Generated names\n",
      "----\n",
      "  Sryx                ;  Bredy               ;  Evbertt             ;  Elyett              ;  Ortolm              ;  Ymia                ;  Elminia             ;  Eurine              ;  Wivianna            ;  Ercat                \n",
      "----\n",
      "Epoch 75 average loss = 0.7307393123224395\n",
      "Generated names\n",
      "----\n",
      "  Sibill              ;  Berdila             ;  Redy                ;  Maila               ;  Kelly               ;  Rollorias           ;  Poilie              ;  Jose                ;  Mariellera          ;  Kethen               \n",
      "----\n",
      "Epoch 76 average loss = 0.7360587283073394\n",
      "Generated names\n",
      "----\n",
      "  Oliona              ;  Cella               ;  Haphel              ;  Albira              ;  Geni                ;  Nichal              ;  Mariene             ;  Ciwwie              ;  Oth                 ;  Dalena               \n",
      "----\n",
      "Epoch 77 average loss = 0.7417226183185655\n",
      "Generated names\n",
      "----\n",
      "  Tpura               ;  Corrie              ;  Wyntho              ;  Olixon              ;  Rospi               ;  Heldie              ;  Grick               ;  Zushele             ;  Barra ttea          ;  Negna                \n",
      "----\n",
      "Epoch 78 average loss = 0.7386322838351989\n",
      "Generated names\n",
      "----\n",
      "  Ame                 ;  Direrie             ;  Sarah               ;  Olfiane             ;  Xeeriann            ;  Hapile              ;  Jaddene             ;  Backande            ;  Laulle              ;  Roinaldella          \n",
      "----\n",
      "Epoch 79 average loss = 0.7353982375512328\n",
      "Generated names\n",
      "----\n",
      "  Datiand             ;  Kessy               ;  Irney               ;  Mike                ;  Alonice             ;  Aublah              ;  Saren               ;  Carlie              ;  Francy              ;  Gyller               \n",
      "----\n",
      "Epoch 80 average loss = 0.7355245907964482\n",
      "Generated names\n",
      "----\n",
      "  Petell              ;  Frofmeri            ;  Farnas              ;  Aulanda             ;  Kritta              ;  Merylla             ;  Garia               ;  Cayda               ;  Rodvan              ;  Miloze               \n",
      "----\n",
      "Epoch 81 average loss = 0.7351999125728292\n",
      "Generated names\n",
      "----\n",
      "  Obann               ;  Tory                ;  Fondy               ;  Doan                ;  Taygulia            ;  Margnes             ;  Hikelly             ;  Arbyonne            ;  Azmay               ;  Rotre                \n",
      "----\n",
      "Epoch 82 average loss = 0.736329783204805\n",
      "Generated names\n",
      "----\n",
      "  Carlian             ;  Elola               ;  Staciga             ;  Reydar              ;  Madye               ;  Adi                 ;  Adresa              ;  Antony              ;  Joneandra           ;  Vazla                \n",
      "----\n"
     ]
    },
    {
     "name": "stdout",
     "output_type": "stream",
     "text": [
      "Epoch 83 average loss = 0.7316399485950448\n",
      "Generated names\n",
      "----\n",
      "  Shesend             ;  Wil                 ;  Amery               ;  Jokifale            ;  Rocigne             ;  Woley               ;  Blice               ;  Fres                ;  Elene               ;  Watebai              \n",
      "----\n",
      "Epoch 84 average loss = 0.7301165988886936\n",
      "Generated names\n",
      "----\n",
      "  Olelina             ;  Otrel               ;  Doodias             ;  Erison              ;  Aryna               ;  Twarore             ;  Mathius             ;  Wristanin           ;  Fonton              ;  Cheriel              \n",
      "----\n",
      "Epoch 85 average loss = 0.7328350705165617\n",
      "Generated names\n",
      "----\n",
      "  Clis                ;  Peir                ;  Leminsande          ;  Karila              ;  Bett                ;  Gerard              ;  Bestar              ;  Dura                ;  Rebitita            ;  Tusta                \n",
      "----\n",
      "Epoch 86 average loss = 0.7326930361482223\n",
      "Generated names\n",
      "----\n",
      "  Ellenchan           ;  Terris              ;  Alisico             ;  Matharina           ;  Lianne              ;  Lawantha            ;  Joth                ;  Kyri                ;  Garra               ;  Leniah               \n",
      "----\n",
      "Epoch 87 average loss = 0.7283095121854657\n",
      "Generated names\n",
      "----\n",
      "  Amali               ;  Edetha              ;  Cinte               ;  Kichon              ;  Kifmi               ;  Naleyn              ;  Rob                 ;  Alaberer            ;  Kipolin             ;  Fledpa               \n",
      "----\n",
      "Epoch 88 average loss = 0.729369429841356\n",
      "Generated names\n",
      "----\n",
      "  Dalvan              ;  Stanuna             ;  Delory              ;  Gobbine             ;  Gybie               ;  Hanralea            ;  Chutt               ;  Rayrree             ;  Vorene              ;  Dailla               \n",
      "----\n",
      "Epoch 89 average loss = 0.7319675504108728\n",
      "Generated names\n",
      "----\n",
      "  Canfinda            ;  Womslyce            ;  Cimbita             ;  Jooror              ;  Welve               ;  Con                 ;  Jomen               ;  Loela               ;  Arles               ;  Awrisey              \n",
      "----\n",
      "Epoch 90 average loss = 0.728177174544599\n",
      "Generated names\n",
      "----\n",
      "  Kilor               ;  Dalemen             ;  Tabuy               ;  Tambeenerlm         ;  Coorent             ;  Rizkerk             ;  Ola                 ;  Morabyo             ;  MopF                ;  Chrytte              \n",
      "----\n",
      "Epoch 91 average loss = 0.7260850142379992\n",
      "Generated names\n",
      "----\n",
      "  Jauni               ;  Evelino             ;  Cirom               ;  Yeako               ;  Aloxorie            ;  Herton              ;  Anatell             ;  Jod                 ;  Steffie             ;  Guvon                \n",
      "----\n",
      "Epoch 92 average loss = 0.7270371057896455\n",
      "Generated names\n",
      "----\n",
      "  Tiogfre             ;  Roagnon             ;  Chan                ;  Wiaff               ;  Cedd                ;  Russeande           ;  Lin                 ;  Raid                ;  Muldie              ;  Gerelina             \n",
      "----\n",
      "Epoch 93 average loss = 0.7302113207466475\n",
      "Generated names\n",
      "----\n",
      "  Lennol              ;  Gertaod             ;  Abila               ;  Valo                ;  Audre               ;  Rhan                ;  Jahante             ;  Erytel              ;  Dougna              ;  Tamfrew              \n",
      "----\n",
      "Epoch 94 average loss = 0.7274071752259627\n",
      "Generated names\n",
      "----\n",
      "  Derne               ;  Amaune              ;  Garbanthe           ;  Oszo                ;  Maud                ;  Rosey               ;  Patino              ;  Clynde              ;  Hetrix              ;  Tartonda             \n",
      "----\n",
      "Epoch 95 average loss = 0.7283745558733186\n",
      "Generated names\n",
      "----\n",
      "  Tamell              ;  Ciboby              ;  Ceres               ;  Rayla               ;  Wirllory            ;  Annathelen          ;  Linie               ;  Livie               ;  Elly                ;  Aera                 \n",
      "----\n",
      "Epoch 96 average loss = 0.7234182452342282\n",
      "Generated names\n",
      "----\n",
      "  Albert              ;  Kellin              ;  Bynny               ;  Bacert              ;  Abe                 ;  Annaria             ;  Visti               ;  Mogriett            ;  Helfon              ;  Soisa                \n",
      "----\n",
      "Epoch 97 average loss = 0.7247825776396284\n",
      "Generated names\n",
      "----\n",
      "  Freverk             ;  Prittie             ;  Ingiele             ;  Marrice             ;  Deewa               ;  Christe             ;  Mareen              ;  Rogney              ;  Solman              ;  Jeral                \n",
      "----\n",
      "Epoch 98 average loss = 0.7294088955885029\n",
      "Generated names\n",
      "----\n",
      "  Giffry              ;  Alverie             ;  Bretia              ;  Arnie               ;  Betry               ;  Oelie               ;  Mailine             ;  Gaela               ;  Grita               ;  Jossol               \n",
      "----\n",
      "Epoch 99 average loss = 0.7226841301390269\n"
     ]
    }
   ],
   "source": [
    "\n",
    "print(\"Training ...\")\n",
    "\n",
    "\n",
    "#total N iterations\n",
    "n_epochs=100\n",
    "\n",
    "# how many minibatches are there in the epoch \n",
    "batches_per_epoch = 500\n",
    "\n",
    "#how many training sequences are processed in a single function call\n",
    "batch_size=10\n",
    "\n",
    "\n",
    "for epoch in range(n_epochs):\n",
    "\n",
    "    print( \"Generated names\")\n",
    "    generate_sample(n_snippets=10)\n",
    "\n",
    "    avg_cost = 0;\n",
    "    \n",
    "    for _ in range(batches_per_epoch):\n",
    "        \n",
    "        x,y = sample_batch(names_ix,batch_size)\n",
    "        avg_cost += train(x, y)\n",
    "        \n",
    "    print(\"Epoch {} average loss = {}\".format(epoch, avg_cost / batches_per_epoch))\n",
    "\n"
   ]
  },
  {
   "cell_type": "code",
   "execution_count": null,
   "metadata": {
    "collapsed": true
   },
   "outputs": [],
   "source": []
  },
  {
   "cell_type": "code",
   "execution_count": 20,
   "metadata": {},
   "outputs": [
    {
     "name": "stdout",
     "output_type": "stream",
     "text": [
      "----\n",
      "  Jaquelay            ;  Elysed              ;  Maghabelita         ;  Jibil               ;  Ery-Krikdanka       ;  Lorena              ;  Agna                ;  Myrah               ;  Azti                ;  Egen-Paul           ;  Jackeanne           ;  Halse               ;  Thory               ;  Pheley              ;  Letne               ;  Pat                 ;  Layne               ;  Arorie              ;  Wigneve             ;  Cladd               ;  Dail                ;  Ropilland           ;  Heldil              ;  Dorenta             ;  Rox                 ;  Ambor               ;  Anna-Mallo          ;  Varalyn             ;  Cigfra              ;  Jelmi               ;  Krittie             ;  Beni                ;  Emeth               ;  Ment                ;  Eworia              ;  Jeria               ;  Gibbi               ;  Grandie             ;  Marikanne           ;  Bern                ;  Sumey               ;  Wyb                 ;  Rounetta            ;  Samar               ;  Gilbebe             ;  Derisa              ;  Vin                 ;  Feldary             ;  Alsamaz             ;  Bity                ;  Shelostos           ;  Erdint              ;  Lorlyn              ;  Calman  re          ;  Bemy                ;  Gryng               ;  Flew                ;  Leile               ;  Beensiqua           ;  Lemon               ;  Carley              ;  Vee                 ;  Birsin              ;  Amartor             ;  Shefly              ;  Roderie             ;  Britta              ;  Mevil               ;  Winnipon            ;  Cassond             ;  Naulan              ;  Nonny               ;  Mada                ;  Luse                ;  Iulanuce            ;  Tlaid               ;  Clayttette          ;  Erke                ;  Hiffery             ;  Toram               ;  Janeis              ;  Ann-Eria            ;  Orina               ;  Ronna               ;  Malman              ;  Beedele             ;  Eure                ;  Wynde               ;  Mereline            ;  Tiacha              ;  Dolyne              ;  Clemina             ;  Sulvy               ;  Lesh                ;  Sibbie              ;  Pasca               ;  Fondy               ;  Omol                ;  Magfe               ;  Merinto              \n",
      "----\n"
     ]
    }
   ],
   "source": [
    "generate_sample(n_snippets=100)"
   ]
  },
  {
   "cell_type": "code",
   "execution_count": 23,
   "metadata": {},
   "outputs": [
    {
     "name": "stdout",
     "output_type": "stream",
     "text": [
      "----\n",
      "  Late                   ;  Latie                  ;  Latulicue              ;  Late                   ;  Lathris                ;  Lat                    ;  Latis                  ;  Lathie                 ;  Latas                  ;  Latie                  ;  Latiantie              ;  Latela                 ;  Latcie                 ;  Latio                  ;  Lathriid               ;  Lathelina              ;  Lathellan              ;  Latrest                ;  Latth                  ;  Latos                  ;  Lathee                 ;  Lathrep                ;  Laty                   ;  Latgelle               ;  Laterine               ;  Lathundie              ;  Lathtele               ;  Lateine                ;  Lathelle               ;  Lathely                ;  Lathly                 ;  Lat                    ;  Latheline              ;  Latrie                 ;  Latheben               ;  Lat                    ;  Latrels                ;  Latie                  ;  Lateel                 ;  Lathale                ;  Latassie               ;  Latinhelin             ;  Latha                  ;  Latie                  ;  Latia                  ;  Latsseu                ;  Lathumpa               ;  Late                   ;  Lathye                 ;  Latril                 ;  Lathlese               ;  Lathie                 ;  Latdil                 ;  Lata                   ;  Latia                  ;  Lathela                ;  Latits                 ;  Latey                  ;  Latairy                ;  Latie                  ;  Lathelita              ;  Lathelie               ;  Latheef                ;  Lateldoh               ;  Latie                  ;  Latardia               ;  Latine                 ;  Latimas                ;  Lathelean              ;  Lath                   ;  Latey                  ;  Lathain                ;  Latelianne             ;  Late                   ;  Latie                  ;  Late                   ;  Lat                    ;  Latessy                ;  Latri                  ;  Latabil                ;  Lat                    ;  Latill                 ;  Lathelie               ;  Lathe                  ;  Latros                 ;  Latella                ;  Lathende               ;  Latil                  ;  Latia                  ;  Lathelia               ;  Latilae                ;  Latey                  ;  Latas                  ;  Lati                   ;  Lathhayner             ;  Lathare                ;  Latil                  ;  Latchav                ;  Lathrelyn              ;  Latdo                   \n",
      "----\n"
     ]
    }
   ],
   "source": [
    "generate_sample(seed_phrase=\" Lat\",n_snippets=100)"
   ]
  },
  {
   "cell_type": "code",
   "execution_count": null,
   "metadata": {
    "collapsed": true
   },
   "outputs": [],
   "source": [
    "generate_sample(seed_phrase=<whatever you please>,n_snippets=10,t=1.0)"
   ]
  },
  {
   "cell_type": "code",
   "execution_count": null,
   "metadata": {
    "collapsed": true
   },
   "outputs": [],
   "source": []
  },
  {
   "cell_type": "markdown",
   "metadata": {
    "collapsed": true
   },
   "source": [
    "### Bonus: try it out!\n",
    "You've just implemented a recurrent language model that can be tasked with generating any kind of sequence, so there's plenty of data you can try it on:\n",
    "\n",
    "* Novels/poems/songs of your favorite author\n",
    "* News titles/clickbait titles\n",
    "* Source code of Linux or Tensorflow\n",
    "* Molecules in [smiles](https://en.wikipedia.org/wiki/Simplified_molecular-input_line-entry_system) format\n",
    "* Melody in notes/chords format\n",
    "* Ikea catalog titles\n",
    "* Pokemon names\n",
    "* Cards from Magic, the Gathering / Hearthstone\n",
    "\n",
    "If you're willing to give it a try, here's what you wanna look at:\n",
    "* Current data format is a sequence of lines, so a novel can be formatted as a list of sentences. Alternatively, you can change data preprocessing altogether.\n",
    "* While some datasets are readily available, others can only be scraped from the web. Try `Selenium` or `Scrapy` for that.\n",
    "* Make sure MAX_LENGTH is adjusted for longer datasets. There's also a bonus section about dynamic RNNs at the bottom.\n",
    "* More complex tasks require larger RNN architecture, try more neurons or several layers. It would also require more training iterations.\n",
    "* Long-term dependencies in music, novels or molecules are better handled with LSTM or GRU\n",
    "\n",
    "__Good hunting!__"
   ]
  }
 ],
 "metadata": {
  "kernelspec": {
   "display_name": "Python 3",
   "language": "python",
   "name": "python3"
  },
  "language_info": {
   "codemirror_mode": {
    "name": "ipython",
    "version": 3
   },
   "file_extension": ".py",
   "mimetype": "text/x-python",
   "name": "python",
   "nbconvert_exporter": "python",
   "pygments_lexer": "ipython3",
   "version": "3.6.3"
  }
 },
 "nbformat": 4,
 "nbformat_minor": 1
}
