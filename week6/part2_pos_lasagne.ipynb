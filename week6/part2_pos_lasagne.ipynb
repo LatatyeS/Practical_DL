{
 "cells": [
  {
   "cell_type": "markdown",
   "metadata": {
    "collapsed": true
   },
   "source": [
    "## Part Of Speech Tagging (5 pts)\n",
    "\n",
    "<img src=https://i.stack.imgur.com/6pdIT.png width=320>\n",
    "\n",
    "Unlike our previous experience with language modelling, this time around we learn the mapping between two different kinds of elements.\n",
    "\n",
    "This setting is common for a range of useful problems:\n",
    "* Speech Recognition - processing human voice into text\n",
    "* Part Of Speech Tagging - for morphology-aware search and as an auxuliary task for most NLP problems\n",
    "* Named Entity Recognition - for chat bots and web crawlers\n",
    "* Protein structure prediction - for bioinformatics\n",
    "\n",
    "Our current guest is part-of-speech tagging. As the name suggests, it's all about converting a sequence of words into a sequence of part-of-speech tags. We'll use a reduced tag set for simplicity:\n",
    "\n",
    "### POS-tags\n",
    "- ADJ - adjective (new, good, high, ...)\n",
    "- ADP - adposition\t(on, of, at, ...)\n",
    "- ADV - adverb\t(really, already, still, ...)\n",
    "- CONJ\t- conjunction\t(and, or, but, ...)\n",
    "- DET - determiner, article\t(the, a, some, ...)\n",
    "- NOUN\t- noun\t(year, home, costs, ...)\n",
    "- NUM - numeral\t(twenty-four, fourth, 1991, ...)\n",
    "- PRT -\tparticle (at, on, out, ...)\n",
    "- PRON - pronoun (he, their, her, ...)\n",
    "- VERB - verb (is, say, told, ...)\n",
    "- .\t- punctuation marks\t(. , ;)\n",
    "- X\t- other\t(ersatz, esprit, dunno, ...)"
   ]
  },
  {
   "cell_type": "code",
   "execution_count": 1,
   "metadata": {
    "scrolled": true
   },
   "outputs": [
    {
     "name": "stdout",
     "output_type": "stream",
     "text": [
      "[nltk_data] Downloading package brown to /Users/s.latatye/nltk_data...\n",
      "[nltk_data]   Package brown is already up-to-date!\n",
      "[nltk_data] Downloading package universal_tagset to\n",
      "[nltk_data]     /Users/s.latatye/nltk_data...\n",
      "[nltk_data]   Package universal_tagset is already up-to-date!\n"
     ]
    }
   ],
   "source": [
    "import nltk\n",
    "import sys\n",
    "import numpy as np\n",
    "nltk.download('brown')\n",
    "nltk.download('universal_tagset')\n",
    "data = nltk.corpus.brown.tagged_sents(tagset='universal')\n",
    "all_tags = ['#EOS#','#UNK#','ADV', 'NOUN', 'ADP', 'PRON', 'DET', '.', 'PRT', 'VERB', 'X', 'NUM', 'CONJ', 'ADJ']\n",
    "\n",
    "data = np.array([ [(word.lower(),tag) for word,tag in sentence] for sentence in data ])"
   ]
  },
  {
   "cell_type": "code",
   "execution_count": 2,
   "metadata": {},
   "outputs": [
    {
     "name": "stderr",
     "output_type": "stream",
     "text": [
      "/Users/s.latatye/anaconda3/lib/python3.6/site-packages/sklearn/cross_validation.py:41: DeprecationWarning: This module was deprecated in version 0.18 in favor of the model_selection module into which all the refactored classes and functions are moved. Also note that the interface of the new CV iterators are different from that of this module. This module will be removed in 0.20.\n",
      "  \"This module will be removed in 0.20.\", DeprecationWarning)\n"
     ]
    }
   ],
   "source": [
    "from sklearn.cross_validation import train_test_split\n",
    "train_data,test_data = train_test_split(data,test_size=0.25,random_state=42)"
   ]
  },
  {
   "cell_type": "code",
   "execution_count": 3,
   "metadata": {},
   "outputs": [
    {
     "data": {
      "text/html": [
       "<table><tr><td>NOUN</td><td>ADP</td><td>NOUN</td><td>NOUN</td><td>NOUN</td><td>NOUN</td><td>VERB</td><td>ADV</td><td>VERB</td><td>ADP</td><td>DET</td><td>ADJ</td><td>NOUN</td><td>.</td></tr><td>implementation</td><td>of</td><td>georgia's</td><td>automobile</td><td>title</td><td>law</td><td>was</td><td>also</td><td>recommended</td><td>by</td><td>the</td><td>outgoing</td><td>jury</td><td>.</td><tr></table>"
      ],
      "text/plain": [
       "<IPython.core.display.HTML object>"
      ]
     },
     "metadata": {},
     "output_type": "display_data"
    },
    {
     "data": {
      "text/html": [
       "<table><tr><td>PRON</td><td>VERB</td><td>ADP</td><td>DET</td><td>NOUN</td><td>.</td><td>VERB</td><td>NOUN</td><td>PRT</td><td>VERB</td><td>.</td><td>DET</td><td>NOUN</td><td>.</td></tr><td>it</td><td>urged</td><td>that</td><td>the</td><td>city</td><td>``</td><td>take</td><td>steps</td><td>to</td><td>remedy</td><td>''</td><td>this</td><td>problem</td><td>.</td><tr></table>"
      ],
      "text/plain": [
       "<IPython.core.display.HTML object>"
      ]
     },
     "metadata": {},
     "output_type": "display_data"
    },
    {
     "data": {
      "text/html": [
       "<table><tr><td>NOUN</td><td>VERB</td></tr><td>merger</td><td>proposed</td><tr></table>"
      ],
      "text/plain": [
       "<IPython.core.display.HTML object>"
      ]
     },
     "metadata": {},
     "output_type": "display_data"
    }
   ],
   "source": [
    "from IPython.display import HTML, display\n",
    "def draw(sentence):\n",
    "    words,tags = zip(*sentence)\n",
    "    display(HTML('<table><tr>{tags}</tr>{words}<tr></table>'.format(\n",
    "                words = '<td>{}</td>'.format('</td><td>'.join(words)),\n",
    "                tags = '<td>{}</td>'.format('</td><td>'.join(tags)))))\n",
    "    \n",
    "    \n",
    "draw(data[11])\n",
    "draw(data[10])\n",
    "draw(data[7])"
   ]
  },
  {
   "cell_type": "markdown",
   "metadata": {},
   "source": [
    "### Building vocabularies\n",
    "\n",
    "Just like before, we have to build a mapping from tokens to integer ids. This time around, our model operates on a word level, processing one word per RNN step. This means we'll have to deal with far larger vocabulary.\n",
    "\n",
    "Luckily for us, we only receive those words as input i.e. we don't have to predict them. This means we can have a large vocabulary for free by using word embeddings."
   ]
  },
  {
   "cell_type": "code",
   "execution_count": 4,
   "metadata": {
    "collapsed": true
   },
   "outputs": [],
   "source": [
    "from collections import Counter\n",
    "word_counts = Counter()\n",
    "for sentence in data:\n",
    "    words,tags = zip(*sentence)\n",
    "    word_counts.update(words)\n",
    "\n",
    "all_words = ['#EOS#','#UNK#']+list(list(zip(*word_counts.most_common(10000)))[0])"
   ]
  },
  {
   "cell_type": "code",
   "execution_count": 5,
   "metadata": {},
   "outputs": [
    {
     "name": "stdout",
     "output_type": "stream",
     "text": [
      "Coverage = 0.92876\n"
     ]
    },
    {
     "data": {
      "image/png": "[encoded data removed]",
      "text/plain": [
       "<matplotlib.figure.Figure at 0x1f1f31f940>"
      ]
     },
     "metadata": {},
     "output_type": "display_data"
    }
   ],
   "source": [
    "#let's measure what fraction of data words are in the dictionary\n",
    "import matplotlib.pyplot as plt\n",
    "%matplotlib inline\n",
    "\n",
    "plt.hist(list(word_counts.values()),range=[0,1000],bins=50, color='r')\n",
    "plt.xlabel(\"Word freqency\")\n",
    "plt.yscale('linear')\n",
    "\n",
    "print(\"Coverage = %.5f\"%(float(sum(word_counts[w] for w in all_words)) / sum(word_counts.values())))"
   ]
  },
  {
   "cell_type": "code",
   "execution_count": 6,
   "metadata": {
    "collapsed": true
   },
   "outputs": [],
   "source": [
    "from collections import defaultdict\n",
    "word_to_id = defaultdict(lambda:1,{word:i for i,word in enumerate(all_words)})\n",
    "tag_to_id = {tag:i for i,tag in enumerate(all_tags)}"
   ]
  },
  {
   "cell_type": "markdown",
   "metadata": {},
   "source": [
    "convert words and tags into fixed-size matrix"
   ]
  },
  {
   "cell_type": "code",
   "execution_count": 7,
   "metadata": {
    "collapsed": true
   },
   "outputs": [],
   "source": [
    "def to_matrix(lines,token_to_id,max_len=None,pad=0,dtype='int32',time_major=False):\n",
    "    \"\"\"Converts a list of names into rnn-digestable matrix with paddings added after the end\"\"\"\n",
    "    \n",
    "    max_len = max_len or max(map(len,lines))\n",
    "    matrix = np.empty([len(lines),max_len],dtype)\n",
    "    matrix.fill(pad)\n",
    "\n",
    "    for i in range(len(lines)):\n",
    "        line_ix = list(map(token_to_id.__getitem__,lines[i]))[:max_len]\n",
    "        matrix[i,:len(line_ix)] = line_ix\n",
    "\n",
    "    return matrix.T if time_major else matrix\n",
    "\n"
   ]
  },
  {
   "cell_type": "code",
   "execution_count": 8,
   "metadata": {},
   "outputs": [
    {
     "name": "stdout",
     "output_type": "stream",
     "text": [
      "Word ids:\n",
      "[[   2 3057    5    2 2238 1334 4238 2454    3    6   19   26 1070   69\n",
      "     8 2088    6    3    1    3  266   65  342    2    1    3    2  315\n",
      "     1    9   87  216 3322   69 1558    4    0    0    0    0    0    0\n",
      "     0    0    0    0    0    0    0    0    0    0    0]\n",
      " [  45   12    8  511 8419    6   60 3246   39    2    1    1    3    2\n",
      "   845    1    3    1    3   10 9910    2    1 3470    9   43    1    1\n",
      "     3    6    2 1046  385   73 4562    3    9    2    1    1 3250    3\n",
      "    12   10    2  861 5240   12    8 8936  121    1    4]\n",
      " [  33   64   26   12  445    7 7346    9    8 3337    3    1 2811    3\n",
      "     2  463  572    2    1    1 1649   12    1    4    0    0    0    0\n",
      "     0    0    0    0    0    0    0    0    0    0    0    0    0    0\n",
      "     0    0    0    0    0    0    0    0    0    0    0]]\n",
      "Tag ids:\n",
      "[[ 6  3  4  6  3  3  9  9  7 12  4  5  9  4  6  3 12  7  9  7  9  8  4  6\n",
      "   3  7  6 13  3  4  6  3  9  4  3  7  0  0  0  0  0  0  0  0  0  0  0  0\n",
      "   0  0  0  0  0]\n",
      " [ 5  9  6  9  3 12  6  3  7  6 13  3  7  6 13  3  7 13  7  5  9  6  3  3\n",
      "   4  6 13  3  7 12  6  3  6 13  3  7  4  6  3  9  3  7  9  4  6 13  3  9\n",
      "   6  3  2 13  7]\n",
      " [ 4  6  5  9 13  4  3  4  6 13  7 13  3  7  6  3  4  6 13  3  3  9  9  7\n",
      "   0  0  0  0  0  0  0  0  0  0  0  0  0  0  0  0  0  0  0  0  0  0  0  0\n",
      "   0  0  0  0  0]]\n"
     ]
    }
   ],
   "source": [
    "batch_words,batch_tags = zip(*[zip(*sentence) for sentence in data[-3:]])\n",
    "\n",
    "print(\"Word ids:\")\n",
    "print(to_matrix(batch_words,word_to_id))\n",
    "print(\"Tag ids:\")\n",
    "print(to_matrix(batch_tags,tag_to_id))"
   ]
  },
  {
   "cell_type": "markdown",
   "metadata": {
    "collapsed": true
   },
   "source": [
    "### Build model\n",
    "\n",
    "Unlike our previous lab, this time we'll focus on a high-level keras interface to recurrent neural networks. It is as simple as you can get with RNN, allbeit somewhat constraining for complex tasks like seq2seq.\n",
    "\n",
    "By default, all keras RNNs apply to a whole sequence of inputs and produce a sequence of hidden states `(return_sequences=True` or just the last hidden state `(return_sequences=False)`. All the recurrence is happening under the hood.\n",
    "\n",
    "At the top of our model we need to apply a Dense layer to each time-step independently. As of now, by default keras.layers.Dense would apply once to all time-steps concatenated. We use __keras.layers.TimeDistributed__ to modify Dense layer so that it would apply across both batch and time axes."
   ]
  },
  {
   "cell_type": "code",
   "execution_count": 9,
   "metadata": {
    "collapsed": true
   },
   "outputs": [],
   "source": [
    "import theano, theano.tensor as T\n",
    "import lasagne, lasagne.layers as L\n",
    "\n",
    "input_words = T.imatrix(\"words[batch,time]\")\n",
    "reference_tags = T.imatrix(\"tags[batch,time]\")\n",
    "mask = T.neq(input_words,0)\n",
    "\n",
    "l_in = L.InputLayer((None,None),input_words)\n",
    "l_mask = L.InputLayer((None,None),mask)\n",
    "\n",
    "l_emb = L.EmbeddingLayer(l_in,len(all_words),50)\n",
    "l_rnn = L.RecurrentLayer(l_emb,64,mask_input=l_mask,nonlinearity=T.tanh)\n",
    "\n",
    "tensor_softmax = lambda x: T.nnet.softmax(x.reshape([-1,x.shape[-1]])).reshape(x.shape)\n",
    "\n",
    "l_out = L.DenseLayer(l_rnn,num_units=len(all_tags),\n",
    "                     num_leading_axes=2,\n",
    "                     nonlinearity=tensor_softmax)"
   ]
  },
  {
   "cell_type": "code",
   "execution_count": 10,
   "metadata": {
    "collapsed": true
   },
   "outputs": [],
   "source": [
    "tag_probas = L.get_output(l_out)\n",
    "\n",
    "loss = T.nnet.categorical_crossentropy(tag_probas.reshape([-1,len(all_tags)]),\n",
    "                                       reference_tags.ravel())\n",
    "loss = T.mean(loss * mask.ravel())\n",
    "\n",
    "updates = lasagne.updates.adam(loss,L.get_all_params(l_out,trainable=True))\n",
    "\n",
    "predict_proba = theano.function([input_words],tag_probas,\n",
    "                                allow_input_downcast=True)\n",
    "train_step = theano.function([input_words,reference_tags],loss,updates=updates,\n",
    "                             allow_input_downcast=True)"
   ]
  },
  {
   "cell_type": "markdown",
   "metadata": {},
   "source": [
    "__Training:__ in this case we don't want to prepare the whole training dataset in advance. The main cause is that the length of every batch depends on the maximum sentence length within the batch. Instead, we'll form batches on the fly using custom generator."
   ]
  },
  {
   "cell_type": "code",
   "execution_count": 11,
   "metadata": {
    "collapsed": true
   },
   "outputs": [],
   "source": [
    "from tqdm import tnrange\n",
    "def generate_batches(sentences,batch_size=32,max_len=None,pad=0):\n",
    "    assert isinstance(sentences,np.ndarray),\"Make sure sentences is q numpy array\"\n",
    "    indices = np.random.permutation(np.arange(len(sentences)))\n",
    "    for start in tnrange(0,len(indices)-1,batch_size):\n",
    "        batch_indices = indices[start:start+batch_size]\n",
    "        batch_words,batch_tags = [],[]\n",
    "        for sent in sentences[batch_indices]:\n",
    "            words,tags = zip(*sent)\n",
    "            batch_words.append(words)\n",
    "            batch_tags.append(tags)\n",
    "\n",
    "        batch_words = to_matrix(batch_words,word_to_id,max_len,pad)\n",
    "        batch_tags = to_matrix(batch_tags,tag_to_id,max_len,pad)\n",
    "        yield batch_words,batch_tags\n",
    "        "
   ]
  },
  {
   "cell_type": "markdown",
   "metadata": {},
   "source": [
    "We also have to compute test accuracy. The catch is that our input data comes with padding that should not affect accuracy in any way. Therefore, we'll have to write our own function for padding."
   ]
  },
  {
   "cell_type": "code",
   "execution_count": 12,
   "metadata": {
    "collapsed": true
   },
   "outputs": [],
   "source": [
    "def compute_accuracy(predict_proba,data):\n",
    "    test_words,test_tags = zip(*[zip(*sentence) for sentence in data])\n",
    "    \n",
    "    numerator = 0   # number of correct predictions\n",
    "    denominator = 0 # total number of predictions\n",
    "    \n",
    "    for bx,by in generate_batches(data):\n",
    "        #predict tags of shape [batch,length]    \n",
    "        predicted_tags = predict_proba(bx).argmax(axis=-1)\n",
    "        numerator += np.sum((predicted_tags == by) & (bx != 0))\n",
    "        denominator += np.sum(bx != 0)\n",
    "    \n",
    "    #compute accurary excluding padding\n",
    "    return float(numerator)/denominator\n"
   ]
  },
  {
   "cell_type": "markdown",
   "metadata": {},
   "source": [
    "Finally we got to training"
   ]
  },
  {
   "cell_type": "code",
   "execution_count": 13,
   "metadata": {},
   "outputs": [
    {
     "name": "stdout",
     "output_type": "stream",
     "text": [
      "Epoch: 5, accuracy = 0.94843\n"
     ]
    },
    {
     "data": {
      "image/png": "[encoded data removed]",
      "text/plain": [
       "<matplotlib.figure.Figure at 0x2135fc3f98>"
      ]
     },
     "metadata": {},
     "output_type": "display_data"
    }
   ],
   "source": [
    "from IPython.display import clear_output\n",
    "history = []\n",
    "\n",
    "for epoch in range(5):\n",
    "    for bx,by in generate_batches(train_data):\n",
    "        train_step(bx,by)\n",
    "        \n",
    "    history.append(compute_accuracy(predict_proba,test_data))\n",
    "    clear_output(True)\n",
    "    print(\"Epoch: %i, accuracy = %.5f\"%(epoch + 1,history[-1]))\n",
    "    plt.plot(history)\n",
    "    plt.grid()\n",
    "    plt.show()"
   ]
  },
  {
   "cell_type": "markdown",
   "metadata": {},
   "source": [
    "Measure final accuracy on the whole test set."
   ]
  },
  {
   "cell_type": "code",
   "execution_count": 14,
   "metadata": {},
   "outputs": [
    {
     "data": {
      "application/vnd.jupyter.widget-view+json": {
       "model_id": "46458417371b46e49024f0c165041006",
       "version_major": 2,
       "version_minor": 0
      },
      "text/plain": [
       "A Jupyter Widget"
      ]
     },
     "metadata": {},
     "output_type": "display_data"
    },
    {
     "name": "stdout",
     "output_type": "stream",
     "text": [
      "\n",
      "Final accuracy: 0.94843\n"
     ]
    }
   ],
   "source": [
    "acc = compute_accuracy(predict_proba,test_data)\n",
    "print(\"Final accuracy: %.5f\"%acc)\n",
    "\n",
    "assert acc>0.94, \"Sanity check failed. Make sure you didn't tweak hyperparameters too much.\""
   ]
  },
  {
   "cell_type": "markdown",
   "metadata": {},
   "source": [
    "### Task I: getting all bidirectional\n",
    "\n",
    "Since we're analyzing a full sequence, it's legal for us to look into future words.\n",
    "\n",
    "A simple way to achieve that is to go both directions at once, making a __bidirectional RNN__.\n",
    "\n",
    "In lasagne you can achieve that by using `backwards=True` and concatenating two recurrent layers:\n",
    "* `forward = SomeLayer(...)`\n",
    "* `backward = SomeLayer(...,backwards=True)`\n",
    "* `bidirectional = L.concat([forward,backward],axis=-1)`\n",
    "\n",
    "Your first task is to use such a layer in POS-tagger."
   ]
  },
  {
   "cell_type": "code",
   "execution_count": 15,
   "metadata": {
    "collapsed": true
   },
   "outputs": [],
   "source": [
    "input_words = T.imatrix(\"words[batch,time]\")\n",
    "reference_tags = T.imatrix(\"tags[batch,time]\")\n",
    "mask = T.neq(input_words,0)\n",
    "\n",
    "l_in = L.InputLayer((None,None),input_words)\n",
    "l_mask = L.InputLayer((None,None),mask)\n",
    "\n",
    "### YOUR CODE HERE: define a model that utilizes bidirectional RecurrentLayer or GRU/LSTMLayer\n",
    "\n",
    "l_emb = L.EmbeddingLayer(l_in,len(all_words),50)\n",
    "l_rnn = L.RecurrentLayer(l_emb,64,mask_input=l_mask,nonlinearity=T.tanh)\n",
    "l_rnn2 = L.RecurrentLayer(l_rnn,64,mask_input=l_mask,nonlinearity=T.tanh, backwards=True)\n",
    "bidirectional = L.concat([l_rnn, l_rnn2], axis = -1)\n",
    "\n",
    "tensor_softmax = lambda x: T.nnet.softmax(x.reshape([-1,x.shape[-1]])).reshape(x.shape)\n",
    "\n",
    "l_out = L.DenseLayer(bidirectional,num_units=len(all_tags),\n",
    "                     num_leading_axes=2,\n",
    "                     nonlinearity=tensor_softmax)"
   ]
  },
  {
   "cell_type": "code",
   "execution_count": 16,
   "metadata": {
    "collapsed": true
   },
   "outputs": [],
   "source": [
    "tag_probas = L.get_output(l_out)\n",
    "\n",
    "loss = T.nnet.categorical_crossentropy(tag_probas.reshape([-1,len(all_tags)]),\n",
    "                                       reference_tags.ravel())\n",
    "loss = T.mean(loss * mask.ravel())\n",
    "\n",
    "updates = lasagne.updates.adam(loss,L.get_all_params(l_out,trainable=True))\n",
    "\n",
    "predict_proba = theano.function([input_words],tag_probas,\n",
    "                                allow_input_downcast=True)\n",
    "train_step = theano.function([input_words,reference_tags],loss,updates=updates,\n",
    "                             allow_input_downcast=True)"
   ]
  },
  {
   "cell_type": "code",
   "execution_count": 17,
   "metadata": {},
   "outputs": [
    {
     "name": "stdout",
     "output_type": "stream",
     "text": [
      "Epoch: 4, accuracy = 0.96478\n"
     ]
    },
    {
     "data": {
      "image/png": "[encoded data removed]",
      "text/plain": [
       "<matplotlib.figure.Figure at 0x1f2490f748>"
      ]
     },
     "metadata": {},
     "output_type": "display_data"
    }
   ],
   "source": [
    "from IPython.display import clear_output\n",
    "history = []\n",
    "\n",
    "for epoch in range(5):\n",
    "    for bx,by in generate_batches(train_data):\n",
    "        train_step(bx,by)\n",
    "        \n",
    "    history.append(compute_accuracy(predict_proba,test_data))\n",
    "    clear_output(True)\n",
    "    print(\"Epoch: %i, accuracy = %.5f\"%(epoch,history[-1]))\n",
    "    plt.plot(history)\n",
    "    plt.grid()\n",
    "    plt.show()"
   ]
  },
  {
   "cell_type": "code",
   "execution_count": 18,
   "metadata": {},
   "outputs": [
    {
     "data": {
      "application/vnd.jupyter.widget-view+json": {
       "model_id": "d3297c3224b446c19424a06f5d903653",
       "version_major": 2,
       "version_minor": 0
      },
      "text/plain": [
       "A Jupyter Widget"
      ]
     },
     "metadata": {},
     "output_type": "display_data"
    },
    {
     "name": "stdout",
     "output_type": "stream",
     "text": [
      "\n",
      "\n",
      "Final accuracy: 0.96478\n",
      "Well done!\n"
     ]
    }
   ],
   "source": [
    "acc = compute_accuracy(predict_proba,test_data)\n",
    "print(\"\\nFinal accuracy: %.5f\"%acc)\n",
    "\n",
    "assert acc>0.96, \"Bidirectional RNNs are better than this!\"\n",
    "print(\"Well done!\")"
   ]
  },
  {
   "cell_type": "markdown",
   "metadata": {},
   "source": [
    "### Task II: now go and improve it\n",
    "\n",
    "You guesses it. We're now gonna ask you to come up with a better network.\n",
    "\n",
    "Here's a few tips:\n",
    "\n",
    "* __Go beyond SimpleRNN__: there's `lasagne.layers.LSTMLayer` and `lasagne.layers.GRULayer`\n",
    "  * You can also use 1D Convolutions (`lasagne.layers.Conv1DLayer`). They are often as good as recurrent layers but with less overfitting.\n",
    "  * If you want to use a custom recurrent Cell, try [this tutorial](https://github.yandex-team.ru/nlp/abyss/blob/b9cccba8f7d6db50f68fa3e3f592a777e348e14d/ml/tfnn/task/seq2seq/translate_ingraph.py) with [agentnet](https://github.com/yandexdataschool/agentnet).\n",
    "* __Stack more layers__: if there is a common motif to this course it's about stacking layers\n",
    "  * You can just add recurrent and 1dconv layers on top of one another and keras will understand it\n",
    "  * Just remember that bigger networks may need more epochs to train.\n",
    "  \n",
    "* __Gradient clipping__: If your training isn't as stable as you'd like, try `grad_clipping` param in recurrent layers or `lasagne.updates.total_norm_constraint`.\n",
    "  * Which is to say, it's a good idea to watch over your loss curve at each minibatch. Try plotting loss history to see if gradients explode.\n",
    "  \n",
    "* __Regularization__: you can apply dropouts as usual but also in an RNN-specific way\n",
    "  * `lasagne.layers.Dropout` works fine inbetween RNN layers\n",
    "  \n",
    "* __More words!__: You can obtain greater performance by expanding your model's input dictionary from 5000 to up to every single word!\n",
    "  * Just make sure your model doesn't overfit due to so many parameters.\n",
    "  * Combined with regularizers or pre-trained word-vectors this could be really good cuz right now our model is blind to >5% of words.\n",
    "  \n",
    "* __The most important advice__: don't cram in everything at once!\n",
    "  * If you stuff in a lot of modiffications, some of them almost inevitably gonna be detrimental and you'll never know which of them are.\n",
    "  * Try to instead go in small iterations and record experiment results to guide further search.\n",
    "  \n",
    "There's some advanced stuff waiting at the end of the notebook.\n",
    "  \n",
    "Good hunting!"
   ]
  },
  {
   "cell_type": "code",
   "execution_count": 38,
   "metadata": {},
   "outputs": [],
   "source": [
    "input_words = T.imatrix(\"words[batch,time]\")\n",
    "reference_tags = T.imatrix(\"tags[batch,time]\")\n",
    "mask = T.neq(input_words,0)\n",
    "\n",
    "l_in = L.InputLayer((None,None),input_words)\n",
    "l_mask = L.InputLayer((None,None),mask)\n",
    "\n",
    "### YOUR CODE HERE: define a model that utilizes bidirectional RecurrentLayer or GRU/LSTMLayer\n",
    "\n",
    "l_emb = L.EmbeddingLayer(l_in,len(all_words),50)\n",
    "#l_rnn = L.RecurrentLayer(l_emb,64,mask_input=l_mask,nonlinearity=T.tanh)\n",
    "l_gru = L.GRULayer(l_emb, 64, mask_input=l_mask)\n",
    "l_lstm = L.LSTMLayer(l_gru, 64, mask_input=l_mask, nonlinearity=T.tanh)\n",
    "#\n",
    "l_lstm2 = L.LSTMLayer(l_lstm,64,mask_input=l_mask,nonlinearity=T.tanh, backwards=True)\n",
    "bidirectional = L.concat([l_lstm, l_lstm2], axis = -1)\n",
    "\n",
    "tensor_softmax = lambda x: T.nnet.softmax(x.reshape([-1,x.shape[-1]])).reshape(x.shape)\n",
    "\n",
    "l_out = L.DenseLayer(bidirectional,num_units=len(all_tags),\n",
    "                     num_leading_axes=2,\n",
    "                     nonlinearity=tensor_softmax)"
   ]
  },
  {
   "cell_type": "code",
   "execution_count": 39,
   "metadata": {},
   "outputs": [],
   "source": [
    "tag_probas = L.get_output(l_out)\n",
    "\n",
    "loss = T.nnet.categorical_crossentropy(tag_probas.reshape([-1,len(all_tags)]),\n",
    "                                       reference_tags.ravel())\n",
    "loss = T.mean(loss * mask.ravel())\n",
    "\n",
    "updates = lasagne.updates.adam(loss,L.get_all_params(l_out,trainable=True))\n",
    "\n",
    "predict_proba = theano.function([input_words],tag_probas,\n",
    "                                allow_input_downcast=True)\n",
    "train_step = theano.function([input_words,reference_tags],loss,updates=updates,\n",
    "                             allow_input_downcast=True)"
   ]
  },
  {
   "cell_type": "code",
   "execution_count": 41,
   "metadata": {},
   "outputs": [
    {
     "name": "stdout",
     "output_type": "stream",
     "text": [
      "Epoch: 4, accuracy = 0.96546\n"
     ]
    },
    {
     "data": {
      "image/png": "[encoded data removed]",
      "text/plain": [
       "<matplotlib.figure.Figure at 0x21384bb128>"
      ]
     },
     "metadata": {},
     "output_type": "display_data"
    }
   ],
   "source": [
    "from IPython.display import clear_output\n",
    "history = []\n",
    "\n",
    "for epoch in range(5):\n",
    "    for bx,by in generate_batches(train_data):\n",
    "        train_step(bx,by)\n",
    "        \n",
    "    history.append(compute_accuracy(predict_proba,test_data))\n",
    "    clear_output(True)\n",
    "    print(\"Epoch: %i, accuracy = %.5f\"%(epoch,history[-1]))\n",
    "    plt.plot(history)\n",
    "    plt.grid()\n",
    "    plt.show()"
   ]
  },
  {
   "cell_type": "code",
   "execution_count": null,
   "metadata": {
    "collapsed": true
   },
   "outputs": [],
   "source": [
    "acc = compute_accuracy(<...>,test_data)\n",
    "print(\"\\nFinal accuracy: %.5f\"%acc)\n",
    "\n",
    "if acc >= 0.99:\n",
    "    print(\"Awesome! Sky was the limit and yet you scored even higher! (bonus +2)\")\n",
    "elif acc >= 0.98:\n",
    "    print(\"Excellent! Whatever dark magic you used, it certainly did it's trick. (bonus +1)\")\n",
    "elif acc >= 0.97:\n",
    "    print(\"Well done! (max score)\")\n",
    "elif acc > 0.96:\n",
    "    print(\"Just a few more iterations! (max score - 1)\")\n",
    "else:\n",
    "    print(\"There seems to be something broken in the model. Unless you know what you're doing, try taking bidirectional RNN and adding one enhancement at a time to see where's the problem.\")"
   ]
  },
  {
   "cell_type": "markdown",
   "metadata": {},
   "source": [
    "```\n",
    "\n",
    "```\n",
    "\n",
    "```\n",
    "\n",
    "```\n",
    "\n",
    "```\n",
    "\n",
    "```\n",
    "\n",
    "```\n",
    "\n",
    "```\n",
    "\n",
    "```\n",
    "\n",
    "```\n",
    "\n",
    "```\n",
    "\n",
    "```\n",
    "\n",
    "\n",
    "#### Some advanced stuff\n",
    "Here there are a few more tips on how to improve training that are a bit trickier to impliment. We strongly suggest that you try them _after_ you've got a good initial model.\n",
    "* __Use pre-trained embeddings__: you can use pre-trained weights from [there](http://ahogrammer.com/2017/01/20/the-list-of-pretrained-word-embeddings/) to kickstart your Embedding layer.\n",
    "  * Embedding layer has a matrix W (layer.W) which contains word embeddings for each word in the dictionary. You can just overwrite them with tf.assign.\n",
    "  * When using pre-trained embeddings, pay attention to the fact that model's dictionary is different from your own.\n",
    "  * You may want to switch trainable=False for embedding layer in first few epochs as in regular fine-tuning.  \n",
    "* __More efficient baching__: right now TF spends a lot of time iterating over \"0\"s\n",
    "  * This happens because batch is always padded to the length of a longest sentence\n",
    "  * You can speed things up by pre-generating batches of similar lengths and feeding it with randomly chosen pre-generated batch.\n",
    "  * This technically breaks the i.i.d. assumption, but it works unless you come up with some insane rnn architectures.\n",
    "* __Structured loss functions__: since we're tagging the whole sequence at once, we might as well train our network to do so.\n",
    "  * There's more than one way to do so, but we'd recommend starting with [Conditional Random Fields](http://blog.echen.me/2012/01/03/introduction-to-conditional-random-fields/)\n",
    "  * You could plug CRF as a loss function and still train by backprop. There's even some neat tensorflow [implementation](https://www.tensorflow.org/api_guides/python/contrib.crf) for you.\n"
   ]
  }
 ],
 "metadata": {
  "kernelspec": {
   "display_name": "Python 3",
   "language": "python",
   "name": "python3"
  },
  "language_info": {
   "codemirror_mode": {
    "name": "ipython",
    "version": 3
   },
   "file_extension": ".py",
   "mimetype": "text/x-python",
   "name": "python",
   "nbconvert_exporter": "python",
   "pygments_lexer": "ipython3",
   "version": "3.6.3"
  }
 },
 "nbformat": 4,
 "nbformat_minor": 1
}
